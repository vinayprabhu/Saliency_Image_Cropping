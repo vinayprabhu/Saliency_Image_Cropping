{
  "nbformat": 4,
  "nbformat_minor": 0,
  "metadata": {
    "colab": {
      "name": "create_table.ipynb",
      "provenance": []
    },
    "kernelspec": {
      "name": "python3",
      "display_name": "Python 3"
    },
    "language_info": {
      "name": "python"
    }
  },
  "cells": [
    {
      "cell_type": "code",
      "metadata": {
        "colab": {
          "base_uri": "https://localhost:8080/"
        },
        "id": "qrI-y9U4vuJ2",
        "outputId": "8c7b2d07-a12f-4671-bdf0-8cf6acecd2f6"
      },
      "source": [
        "import numpy as np\n",
        "import os\n",
        "import pandas as pd\n",
        "import matplotlib.pyplot as plt\n",
        "import pandas as pd\n",
        "%matplotlib inline\n",
        "\n",
        "from scipy.linalg import block_diag\n",
        "# Don't do linear algebra in Python without these two lines\n",
        "np.set_printoptions(suppress=True)\n",
        "from collections import Counter\n",
        "from IPython.display import set_matplotlib_formats\n",
        "set_matplotlib_formats('retina')\n",
        "\n",
        "%precision 3\n",
        "#############################################\n",
        "import sys\n",
        "import importlib\n",
        "importlib.reload(sys)\n",
        "#######################\n",
        "from google.colab import drive\n",
        "drive.flush_and_unmount()\n",
        "import os"
      ],
      "execution_count": 1,
      "outputs": [
        {
          "output_type": "stream",
          "name": "stdout",
          "text": [
            "Drive not mounted, so nothing to flush and unmount.\n"
          ]
        }
      ]
    },
    {
      "cell_type": "code",
      "metadata": {
        "id": "ieSzp_x8vw_k"
      },
      "source": [
        "with open('google_dataset_raw.txt') as f:\n",
        "    lines = f.readlines()"
      ],
      "execution_count": 6,
      "outputs": []
    },
    {
      "cell_type": "code",
      "metadata": {
        "colab": {
          "base_uri": "https://localhost:8080/"
        },
        "id": "hNVQHlv1wDK9",
        "outputId": "12a7a793-5c2d-4c0e-9e2f-d7de609f996a"
      },
      "source": [
        "updated_ind=np.where(['Updated' in l for l in lines])[0]\n",
        "updated_ind"
      ],
      "execution_count": 14,
      "outputs": [
        {
          "output_type": "execute_result",
          "data": {
            "text/plain": [
              "array([  3,   7,  10,  15,  20,  24,  28,  33,  38,  43,  48,  53,  58,\n",
              "        66,  71,  76,  80,  86,  90,  96, 101, 106, 111, 116, 121, 126,\n",
              "       130, 135, 142, 148, 154, 161, 166, 171, 177, 182, 187, 193, 199,\n",
              "       204, 209, 214, 219, 224, 229, 236, 243, 250, 255, 259, 266, 271,\n",
              "       275, 282, 287, 291, 296, 306, 311, 318, 322, 327, 332, 338, 343,\n",
              "       348, 352, 357, 361, 366, 372, 379, 383, 387, 392, 397, 403, 408,\n",
              "       412, 417, 422, 426, 433, 437, 442, 447, 454, 459, 464, 469, 474,\n",
              "       480, 486, 490, 496, 501, 507, 513, 519, 524, 529, 534, 539, 545,\n",
              "       549, 554, 558, 563, 568, 572, 577, 582, 590, 594, 599, 607, 613,\n",
              "       618, 622, 626, 633, 638, 644, 650, 655, 660, 666, 672, 678, 684,\n",
              "       690, 695, 700, 705, 710, 715, 719, 724, 730, 735, 744, 748, 753,\n",
              "       758, 764, 769, 779, 785, 790, 795, 800, 805, 813, 820, 828, 835,\n",
              "       846, 853, 862, 866, 871, 876, 880, 885, 891, 897, 901, 906, 910,\n",
              "       916, 920, 924, 929, 933, 941, 945, 949, 954, 959])"
            ]
          },
          "metadata": {},
          "execution_count": 14
        }
      ]
    },
    {
      "cell_type": "code",
      "metadata": {
        "id": "OnPStMmiwGiO"
      },
      "source": [
        "df_comb=pd.DataFrame(columns=['dataset_title','url_src','date'])\n",
        "prev_ind=0\n",
        "for i,ind in enumerate(updated_ind):\n",
        "  df_comb.loc[i,'date']=lines[ind].split('Updated')[-1].lstrip().rstrip()\n",
        "  list_ind=lines[prev_ind:ind]\n",
        "  # Remove garbage entries with low str length\n",
        "  array_ind=np.array(list_ind)[[len(l)>5 for l in list_ind]]\n",
        "  df_comb.loc[i,['dataset_title']]=array_ind[0].strip('\\n')\n",
        "  df_comb.loc[i,['url_src']]=array_ind[1].strip('\\n')\n",
        "  prev_ind=ind+1\n",
        "  "
      ],
      "execution_count": 43,
      "outputs": []
    },
    {
      "cell_type": "code",
      "metadata": {
        "id": "TkMfj_E9xzrr"
      },
      "source": [
        "df_ds=df_comb.drop_duplicates(\n",
        "  subset = ['dataset_title','url_src'],\n",
        "  keep = 'last').reset_index(drop = True)"
      ],
      "execution_count": 46,
      "outputs": []
    },
    {
      "cell_type": "code",
      "metadata": {
        "colab": {
          "base_uri": "https://localhost:8080/",
          "height": 424
        },
        "id": "UO2twot10fJb",
        "outputId": "2650012c-2f4b-4b89-d4c1-4fd10d1d69fb"
      },
      "source": [
        "df_ds"
      ],
      "execution_count": 48,
      "outputs": [
        {
          "output_type": "execute_result",
          "data": {
            "text/html": [
              "<div>\n",
              "<style scoped>\n",
              "    .dataframe tbody tr th:only-of-type {\n",
              "        vertical-align: middle;\n",
              "    }\n",
              "\n",
              "    .dataframe tbody tr th {\n",
              "        vertical-align: top;\n",
              "    }\n",
              "\n",
              "    .dataframe thead th {\n",
              "        text-align: right;\n",
              "    }\n",
              "</style>\n",
              "<table border=\"1\" class=\"dataframe\">\n",
              "  <thead>\n",
              "    <tr style=\"text-align: right;\">\n",
              "      <th></th>\n",
              "      <th>dataset_title</th>\n",
              "      <th>url_src</th>\n",
              "      <th>date</th>\n",
              "    </tr>\n",
              "  </thead>\n",
              "  <tbody>\n",
              "    <tr>\n",
              "      <th>0</th>\n",
              "      <td>Newcastle polysomnography and accelerometer data</td>\n",
              "      <td>zenodo.org</td>\n",
              "      <td>Jan 25, 2018</td>\n",
              "    </tr>\n",
              "    <tr>\n",
              "      <th>1</th>\n",
              "      <td>Accelerometer data collected using a number of...</td>\n",
              "      <td>eprints.soton.ac.uk</td>\n",
              "      <td>Jul 19, 2017</td>\n",
              "    </tr>\n",
              "    <tr>\n",
              "      <th>2</th>\n",
              "      <td>Golden Gate Bridge Accelerometer Data</td>\n",
              "      <td>www.kaggle.com</td>\n",
              "      <td>May 13, 2018</td>\n",
              "    </tr>\n",
              "    <tr>\n",
              "      <th>3</th>\n",
              "      <td>Data from: Analysis of animal accelerometer da...</td>\n",
              "      <td>explore.openaire.eu</td>\n",
              "      <td>Oct 1, 2016</td>\n",
              "    </tr>\n",
              "    <tr>\n",
              "      <th>4</th>\n",
              "      <td>Smartphone Gyroscope and Accelerometer Dataset...</td>\n",
              "      <td>zenodo.org</td>\n",
              "      <td>Jul 2, 2020</td>\n",
              "    </tr>\n",
              "    <tr>\n",
              "      <th>...</th>\n",
              "      <td>...</td>\n",
              "      <td>...</td>\n",
              "      <td>...</td>\n",
              "    </tr>\n",
              "    <tr>\n",
              "      <th>171</th>\n",
              "      <td>Stumblemeter: App and MATLAB code</td>\n",
              "      <td>www.narcis.nl</td>\n",
              "      <td>Apr 28, 2021</td>\n",
              "    </tr>\n",
              "    <tr>\n",
              "      <th>172</th>\n",
              "      <td>J04_accelerometer_all</td>\n",
              "      <td>www.neracoos.org</td>\n",
              "      <td>Jan 31, 2021</td>\n",
              "    </tr>\n",
              "    <tr>\n",
              "      <th>173</th>\n",
              "      <td>Raw accelerometer data</td>\n",
              "      <td>search.datacite.org</td>\n",
              "      <td>2017</td>\n",
              "    </tr>\n",
              "    <tr>\n",
              "      <th>174</th>\n",
              "      <td>Processed acceleromter data</td>\n",
              "      <td>figshare.com</td>\n",
              "      <td>Jun 26, 2020</td>\n",
              "    </tr>\n",
              "    <tr>\n",
              "      <th>175</th>\n",
              "      <td>Dataset: Long-term activity recognition from w...</td>\n",
              "      <td>figshare.com</td>\n",
              "      <td>Jan 19, 2016</td>\n",
              "    </tr>\n",
              "  </tbody>\n",
              "</table>\n",
              "<p>176 rows × 3 columns</p>\n",
              "</div>"
            ],
            "text/plain": [
              "                                         dataset_title  ...          date\n",
              "0     Newcastle polysomnography and accelerometer data  ...  Jan 25, 2018\n",
              "1    Accelerometer data collected using a number of...  ...  Jul 19, 2017\n",
              "2                Golden Gate Bridge Accelerometer Data  ...  May 13, 2018\n",
              "3    Data from: Analysis of animal accelerometer da...  ...   Oct 1, 2016\n",
              "4    Smartphone Gyroscope and Accelerometer Dataset...  ...   Jul 2, 2020\n",
              "..                                                 ...  ...           ...\n",
              "171                  Stumblemeter: App and MATLAB code  ...  Apr 28, 2021\n",
              "172                              J04_accelerometer_all  ...  Jan 31, 2021\n",
              "173                             Raw accelerometer data  ...          2017\n",
              "174                        Processed acceleromter data  ...  Jun 26, 2020\n",
              "175  Dataset: Long-term activity recognition from w...  ...  Jan 19, 2016\n",
              "\n",
              "[176 rows x 3 columns]"
            ]
          },
          "metadata": {},
          "execution_count": 48
        }
      ]
    },
    {
      "cell_type": "code",
      "metadata": {
        "colab": {
          "base_uri": "https://localhost:8080/"
        },
        "id": "4lwVhwBR09Bk",
        "outputId": "76cbb325-f20d-4506-d878-9e9d3acc34d3"
      },
      "source": [
        "176/13"
      ],
      "execution_count": 49,
      "outputs": [
        {
          "output_type": "execute_result",
          "data": {
            "text/plain": [
              "13.538"
            ]
          },
          "metadata": {},
          "execution_count": 49
        }
      ]
    },
    {
      "cell_type": "code",
      "metadata": {
        "colab": {
          "base_uri": "https://localhost:8080/",
          "height": 580
        },
        "id": "_O4_8D072J9E",
        "outputId": "bfdecdaa-1d22-464e-ca92-da1cff6e4896"
      },
      "source": [
        "fellows_list=['Stephanie Tietz',\n",
        "'Iris Chang',\n",
        "'Sanjana Sarda',\n",
        "'Shruti Chaturvedi',\n",
        "'Alicia Boyd',\n",
        "'Alexander Ke',\n",
        "'Dereje Workneh',\n",
        "'Ryan Teehan',\n",
        "'Danny Tse',\n",
        "'Nicholas Roberts',\n",
        "'Jiahui Chen',\n",
        "'Patrick Liu',\n",
        "'Jaiden Reddy']\n",
        "names_rep=fellows_list*int(np.ceil(df_ds.shape[0]/len(fellows_list)))\n",
        "df_ds['fellow_allocated']=names_rep[0:df_ds.shape[0]]\n",
        "df_ds"
      ],
      "execution_count": 58,
      "outputs": [
        {
          "output_type": "execute_result",
          "data": {
            "text/html": [
              "<div>\n",
              "<style scoped>\n",
              "    .dataframe tbody tr th:only-of-type {\n",
              "        vertical-align: middle;\n",
              "    }\n",
              "\n",
              "    .dataframe tbody tr th {\n",
              "        vertical-align: top;\n",
              "    }\n",
              "\n",
              "    .dataframe thead th {\n",
              "        text-align: right;\n",
              "    }\n",
              "</style>\n",
              "<table border=\"1\" class=\"dataframe\">\n",
              "  <thead>\n",
              "    <tr style=\"text-align: right;\">\n",
              "      <th></th>\n",
              "      <th>dataset_title</th>\n",
              "      <th>url_src</th>\n",
              "      <th>date</th>\n",
              "      <th>fellow_allocated</th>\n",
              "    </tr>\n",
              "  </thead>\n",
              "  <tbody>\n",
              "    <tr>\n",
              "      <th>0</th>\n",
              "      <td>Newcastle polysomnography and accelerometer data</td>\n",
              "      <td>zenodo.org</td>\n",
              "      <td>Jan 25, 2018</td>\n",
              "      <td>Stephanie Tietz</td>\n",
              "    </tr>\n",
              "    <tr>\n",
              "      <th>1</th>\n",
              "      <td>Accelerometer data collected using a number of...</td>\n",
              "      <td>eprints.soton.ac.uk</td>\n",
              "      <td>Jul 19, 2017</td>\n",
              "      <td>Iris Chang</td>\n",
              "    </tr>\n",
              "    <tr>\n",
              "      <th>2</th>\n",
              "      <td>Golden Gate Bridge Accelerometer Data</td>\n",
              "      <td>www.kaggle.com</td>\n",
              "      <td>May 13, 2018</td>\n",
              "      <td>Sanjana Sarda</td>\n",
              "    </tr>\n",
              "    <tr>\n",
              "      <th>3</th>\n",
              "      <td>Data from: Analysis of animal accelerometer da...</td>\n",
              "      <td>explore.openaire.eu</td>\n",
              "      <td>Oct 1, 2016</td>\n",
              "      <td>Shruti Chaturvedi</td>\n",
              "    </tr>\n",
              "    <tr>\n",
              "      <th>4</th>\n",
              "      <td>Smartphone Gyroscope and Accelerometer Dataset...</td>\n",
              "      <td>zenodo.org</td>\n",
              "      <td>Jul 2, 2020</td>\n",
              "      <td>Alicia Boyd</td>\n",
              "    </tr>\n",
              "    <tr>\n",
              "      <th>...</th>\n",
              "      <td>...</td>\n",
              "      <td>...</td>\n",
              "      <td>...</td>\n",
              "      <td>...</td>\n",
              "    </tr>\n",
              "    <tr>\n",
              "      <th>171</th>\n",
              "      <td>Stumblemeter: App and MATLAB code</td>\n",
              "      <td>www.narcis.nl</td>\n",
              "      <td>Apr 28, 2021</td>\n",
              "      <td>Sanjana Sarda</td>\n",
              "    </tr>\n",
              "    <tr>\n",
              "      <th>172</th>\n",
              "      <td>J04_accelerometer_all</td>\n",
              "      <td>www.neracoos.org</td>\n",
              "      <td>Jan 31, 2021</td>\n",
              "      <td>Shruti Chaturvedi</td>\n",
              "    </tr>\n",
              "    <tr>\n",
              "      <th>173</th>\n",
              "      <td>Raw accelerometer data</td>\n",
              "      <td>search.datacite.org</td>\n",
              "      <td>2017</td>\n",
              "      <td>Alicia Boyd</td>\n",
              "    </tr>\n",
              "    <tr>\n",
              "      <th>174</th>\n",
              "      <td>Processed acceleromter data</td>\n",
              "      <td>figshare.com</td>\n",
              "      <td>Jun 26, 2020</td>\n",
              "      <td>Alexander Ke</td>\n",
              "    </tr>\n",
              "    <tr>\n",
              "      <th>175</th>\n",
              "      <td>Dataset: Long-term activity recognition from w...</td>\n",
              "      <td>figshare.com</td>\n",
              "      <td>Jan 19, 2016</td>\n",
              "      <td>Dereje Workneh</td>\n",
              "    </tr>\n",
              "  </tbody>\n",
              "</table>\n",
              "<p>176 rows × 4 columns</p>\n",
              "</div>"
            ],
            "text/plain": [
              "                                         dataset_title  ...   fellow_allocated\n",
              "0     Newcastle polysomnography and accelerometer data  ...    Stephanie Tietz\n",
              "1    Accelerometer data collected using a number of...  ...         Iris Chang\n",
              "2                Golden Gate Bridge Accelerometer Data  ...      Sanjana Sarda\n",
              "3    Data from: Analysis of animal accelerometer da...  ...  Shruti Chaturvedi\n",
              "4    Smartphone Gyroscope and Accelerometer Dataset...  ...        Alicia Boyd\n",
              "..                                                 ...  ...                ...\n",
              "171                  Stumblemeter: App and MATLAB code  ...      Sanjana Sarda\n",
              "172                              J04_accelerometer_all  ...  Shruti Chaturvedi\n",
              "173                             Raw accelerometer data  ...        Alicia Boyd\n",
              "174                        Processed acceleromter data  ...       Alexander Ke\n",
              "175  Dataset: Long-term activity recognition from w...  ...     Dereje Workneh\n",
              "\n",
              "[176 rows x 4 columns]"
            ]
          },
          "metadata": {},
          "execution_count": 58
        }
      ]
    },
    {
      "cell_type": "code",
      "metadata": {
        "id": "41prLSRq3PBH"
      },
      "source": [
        "df_ds.to_csv('df_datasets_allocated.csv',index=False)"
      ],
      "execution_count": 59,
      "outputs": []
    }
  ]
}